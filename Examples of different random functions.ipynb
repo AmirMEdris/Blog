{
 "cells": [
  {
   "cell_type": "code",
   "execution_count": 1,
   "metadata": {},
   "outputs": [],
   "source": [
    "import random\n",
    "import numpy as np"
   ]
  },
  {
   "cell_type": "code",
   "execution_count": 2,
   "metadata": {},
   "outputs": [],
   "source": [
    "def seed_warning(seed):\n",
    "    if seed == None:\n",
    "        print('WARNING:there is no seed a random one will be used')\n",
    "    else:\n",
    "        print('using seed {}'.format(seed))"
   ]
  },
  {
   "cell_type": "code",
   "execution_count": 3,
   "metadata": {},
   "outputs": [],
   "source": [
    "#lets make a simple coinflip function\n",
    "def coinflip(times,seed=None):\n",
    "    seed_warning(seed)\n",
    "    random.seed(seed)\n",
    "    for flip in range(0,times):\n",
    "        coin = random.random()\n",
    "        if coin < 0.5:\n",
    "            print('Flip #',flip+1,': Tails')\n",
    "        else:\n",
    "            print('Flip #',flip+1,': Heads')"
   ]
  },
  {
   "cell_type": "code",
   "execution_count": 4,
   "metadata": {},
   "outputs": [
    {
     "name": "stdout",
     "output_type": "stream",
     "text": [
      "using seed 1\n",
      "Flip # 1 : Tails\n",
      "Flip # 2 : Heads\n",
      "Flip # 3 : Heads\n",
      "Flip # 4 : Tails\n",
      "Flip # 5 : Tails\n"
     ]
    }
   ],
   "source": [
    "coinflip(5,seed = 1)"
   ]
  },
  {
   "cell_type": "code",
   "execution_count": 5,
   "metadata": {},
   "outputs": [
    {
     "name": "stdout",
     "output_type": "stream",
     "text": [
      "WARNING:there is no seed a random one will be used\n",
      "Flip # 1 : Heads\n",
      "Flip # 2 : Tails\n",
      "Flip # 3 : Heads\n",
      "Flip # 4 : Tails\n",
      "Flip # 5 : Heads\n",
      "Flip # 6 : Tails\n"
     ]
    }
   ],
   "source": [
    "coinflip(6)"
   ]
  },
  {
   "cell_type": "code",
   "execution_count": 6,
   "metadata": {},
   "outputs": [],
   "source": [
    "def unfaircoinflip(times,seed=None):\n",
    "    seed_warning(seed)\n",
    "    for flip in range(0,times):\n",
    "        random.seed(seed)\n",
    "        coin = random.random()\n",
    "        if coin < 0.5:\n",
    "            print('Flip #',flip+1,': Tails')\n",
    "        else:\n",
    "            print('Flip #',flip+1,': Heads')"
   ]
  },
  {
   "cell_type": "code",
   "execution_count": 7,
   "metadata": {},
   "outputs": [
    {
     "name": "stdout",
     "output_type": "stream",
     "text": [
      "using seed 1\n",
      "Flip # 1 : Tails\n",
      "Flip # 2 : Tails\n",
      "Flip # 3 : Tails\n",
      "Flip # 4 : Tails\n",
      "Flip # 5 : Tails\n",
      "Flip # 6 : Tails\n"
     ]
    }
   ],
   "source": [
    "unfaircoinflip(6,seed=1)"
   ]
  },
  {
   "cell_type": "code",
   "execution_count": 8,
   "metadata": {},
   "outputs": [],
   "source": [
    "def NpFlip(trials, amount,seed = None):\n",
    "    seed_warning(seed)\n",
    "    np.random.seed(seed)\n",
    "    random_numbers = np.random.rand(trials, amount)\n",
    "    coinflips=[]\n",
    "    for trial in random_numbers:\n",
    "        trial_results = []\n",
    "        for flip in trial:\n",
    "            if flip < 0.5:\n",
    "                trial_results.append('Tails')\n",
    "            else:\n",
    "                trial_results.append('Heads')\n",
    "        coinflips.append(trial_results)\n",
    "    print(coinflips)\n",
    "    \n",
    "                \n",
    "    "
   ]
  },
  {
   "cell_type": "code",
   "execution_count": 9,
   "metadata": {},
   "outputs": [
    {
     "name": "stdout",
     "output_type": "stream",
     "text": [
      "WARNING:there is no seed a random one will be used\n",
      "[['Tails', 'Tails', 'Tails', 'Heads', 'Heads', 'Heads'], ['Tails', 'Tails', 'Heads', 'Tails', 'Tails', 'Heads']]\n"
     ]
    }
   ],
   "source": [
    "NpFlip(2, 6)"
   ]
  },
  {
   "cell_type": "code",
   "execution_count": 10,
   "metadata": {},
   "outputs": [],
   "source": [
    "def randomgene(length,seed=None):\n",
    "    seed_warning(seed)\n",
    "    random.seed(seed)\n",
    "    Bases = 'TCAG'\n",
    "    Seq= ''\n",
    "    for random_base in range(0,length):\n",
    "        base_number = random.randint(0,3)\n",
    "        base = Bases[base_number]\n",
    "        Seq = Seq+base\n",
    "    print(Seq)\n",
    "        \n",
    "        \n",
    "    "
   ]
  },
  {
   "cell_type": "code",
   "execution_count": 11,
   "metadata": {},
   "outputs": [
    {
     "name": "stdout",
     "output_type": "stream",
     "text": [
      "WARNING:there is no seed a random one will be used\n",
      "AATGTGGTTCAGTACGGAGC\n"
     ]
    }
   ],
   "source": [
    "randomgene(20)"
   ]
  },
  {
   "cell_type": "code",
   "execution_count": 12,
   "metadata": {},
   "outputs": [],
   "source": [
    "def short_random_gene(length, seed = None):\n",
    "    seed_warning(seed)\n",
    "    random.seed(seed)\n",
    "    Bases = 'TCAG'\n",
    "    seq = ''\n",
    "    for bases in range(0,length):\n",
    "        choice = random.choice(Bases)\n",
    "        seq+= choice\n",
    "    print(seq)"
   ]
  },
  {
   "cell_type": "code",
   "execution_count": 13,
   "metadata": {},
   "outputs": [
    {
     "name": "stdout",
     "output_type": "stream",
     "text": [
      "using seed 1\n",
      "CTATGGGGCTGTGGTGACTATTTTGCGTCGGCACCGATGTCATAGCAAGG\n"
     ]
    }
   ],
   "source": [
    "short_random_gene(50, seed = 1)"
   ]
  },
  {
   "cell_type": "code",
   "execution_count": 14,
   "metadata": {},
   "outputs": [],
   "source": [
    "def np_short_random_gene(length,seed = None):\n",
    "    seed_warning(seed)\n",
    "    np.random.seed(seed)\n",
    "    Bases = ['T','C','A','G']\n",
    "    seq = np.random.choice(Bases,length,replace = True)\n",
    "    print(''.join(seq))"
   ]
  },
  {
   "cell_type": "code",
   "execution_count": 15,
   "metadata": {},
   "outputs": [
    {
     "name": "stdout",
     "output_type": "stream",
     "text": [
      "WARNING:there is no seed a random one will be used\n",
      "AATATGATGGAATAGAGGGCCTGCCTGGTCACTCATCGATAAACATTCAA\n"
     ]
    }
   ],
   "source": [
    "np_short_random_gene(50)"
   ]
  },
  {
   "cell_type": "code",
   "execution_count": 28,
   "metadata": {},
   "outputs": [],
   "source": [
    "import time\n",
    "def goes_first(namea,nameb):\n",
    "    aroll = random.randint(1,100)\n",
    "    broll = random.randint(1,100)\n",
    "    if aroll <= broll:\n",
    "        first = nameb\n",
    "    else:\n",
    "        first = namea\n",
    "    return first\n",
    "    "
   ]
  },
  {
   "cell_type": "code",
   "execution_count": 29,
   "metadata": {},
   "outputs": [],
   "source": [
    "def player_moves():\n",
    "    pokemon_moves = ['absorb', 'volt-tackle', 'accelerock', \n",
    "                     'acid', 'acrobatics', 'watergun', 'squirt',\n",
    "                    'tackle', 'cut','splash', 'shock', 'hyper-beam']\n",
    "    move_list = np.random.choice(pokemon_moves,4)\n",
    "    return move_list"
   ]
  },
  {
   "cell_type": "code",
   "execution_count": 30,
   "metadata": {},
   "outputs": [],
   "source": [
    "def player_stats(moves):\n",
    "    moves_stats = []\n",
    "    for move in moves:\n",
    "        move_stat = random.randint(1,20)\n",
    "        moves_stats.append((move,move_stat))\n",
    "    return moves_stats\n"
   ]
  },
  {
   "cell_type": "code",
   "execution_count": 31,
   "metadata": {},
   "outputs": [
    {
     "data": {
      "text/plain": [
       "('acid', 19)"
      ]
     },
     "execution_count": 31,
     "metadata": {},
     "output_type": "execute_result"
    }
   ],
   "source": [
    "def ai_move(move_stats):\n",
    "    move = random.choice(move_stats)\n",
    "    return move\n",
    "ai_move([('acid', 19), ('tackle', 2), ('accelerock', 16), ('shock', 8)])"
   ]
  },
  {
   "cell_type": "code",
   "execution_count": 32,
   "metadata": {},
   "outputs": [],
   "source": [
    "def player_move(move_stats):\n",
    "    x = 0\n",
    "    print('_____PLAYER ATTACK_____')\n",
    "    for i in move_stats:\n",
    "        x+=1\n",
    "        print('move#{} You have {} which does around {} damage'.format(x,i[0],i[1]))\n",
    "    print('-----------------------------------------')\n",
    "    move_key = int(input('Type the move number of the move youd like to use:'))\n",
    "    move = move_stats[move_key-1]\n",
    "    print('-----------------------------------------')\n",
    "    return move\n"
   ]
  },
  {
   "cell_type": "code",
   "execution_count": null,
   "metadata": {},
   "outputs": [],
   "source": [
    "def pokemon_fight(a,b,seed = None,textspeed = 3):\n",
    "    seed_warning(seed)\n",
    "    ahp = 100\n",
    "    bhp = 100\n",
    "    first = goes_first(a,b)\n",
    "    second = b if first == a else a\n",
    "    first_moves = player_moves()\n",
    "    second_moves = player_moves()\n",
    "    first_stats = player_stats(first_moves)\n",
    "    second_stats = player_stats(first_moves)\n",
    "    turn = 1\n",
    "    while ahp >0 and bhp > 0:\n",
    "        print('-----------------------------------------')\n",
    "        print('Turn #',turn)\n",
    "        print('-----------------------------------------')\n",
    "        time.sleep(textspeed)\n",
    "        if turn == 1:\n",
    "            print('first is {}'.format(first))\n",
    "        \n",
    "        if first == a:\n",
    "            time.sleep(textspeed)\n",
    "            aattack = player_move(first_stats)\n",
    "            bhp = bhp - aattack[1]\n",
    "            last_attack= aattack\n",
    "            print(\"{} used {} it did {} damage to {}\".format(first, last_attack[0],\n",
    "                                                       last_attack[1],second))\n",
    "            time.sleep(textspeed)\n",
    "            print('______ENEMY_ATTACK_____')\n",
    "            battack = ai_move(second_stats)\n",
    "            ahp = ahp - battack[1]\n",
    "            slast_attack = battack\n",
    "            time.sleep(textspeed)\n",
    "            print(\"{} used {} it did {} damage to {}\".format(second, slast_attack[0],\n",
    "                                                       slast_attack[1],first))\n",
    "            time.sleep(textspeed)\n",
    "            print('You have {} hp, Your opponent has {} hp'.format(ahp,bhp))\n",
    "            time.sleep(textspeed)\n",
    "        else:\n",
    "            time.sleep(textspeed)\n",
    "            print('______ENEMY_ATTACK_____')\n",
    "            battack = ai_move(first_stats)\n",
    "            ahp = ahp - battack[1]\n",
    "            last_attack = battack\n",
    "            print(\"{} used {} it did {} damage to {}\".format(first, last_attack[0],\n",
    "                                                       last_attack[1],second))\n",
    "            print('-----------------------------------------')\n",
    "            time.sleep(textspeed)\n",
    "            aattack = player_move(second_stats)\n",
    "            bhp = bhp - aattack[1]\n",
    "            slast_attack = aattack\n",
    "            print(\"{} used {} it did {} damage to {}\".format(second, slast_attack[0],\n",
    "                                                       slast_attack[1],first))\n",
    "            time.sleep(textspeed)\n",
    "            print('You have {} hp, Your opponent has {} hp'.format(ahp,bhp))\n",
    "            time.sleep(textspeed)\n",
    "        turn+=1\n",
    "    \n",
    "    "
   ]
  },
  {
   "cell_type": "code",
   "execution_count": null,
   "metadata": {},
   "outputs": [],
   "source": []
  },
  {
   "cell_type": "markdown",
   "metadata": {},
   "source": []
  },
  {
   "cell_type": "code",
   "execution_count": null,
   "metadata": {},
   "outputs": [],
   "source": []
  },
  {
   "cell_type": "code",
   "execution_count": null,
   "metadata": {},
   "outputs": [],
   "source": []
  },
  {
   "cell_type": "code",
   "execution_count": null,
   "metadata": {},
   "outputs": [],
   "source": []
  },
  {
   "cell_type": "code",
   "execution_count": null,
   "metadata": {},
   "outputs": [],
   "source": []
  }
 ],
 "metadata": {
  "kernelspec": {
   "display_name": "Python 3",
   "language": "python",
   "name": "python3"
  },
  "language_info": {
   "codemirror_mode": {
    "name": "ipython",
    "version": 3
   },
   "file_extension": ".py",
   "mimetype": "text/x-python",
   "name": "python",
   "nbconvert_exporter": "python",
   "pygments_lexer": "ipython3",
   "version": "3.8.3"
  }
 },
 "nbformat": 4,
 "nbformat_minor": 4
}
