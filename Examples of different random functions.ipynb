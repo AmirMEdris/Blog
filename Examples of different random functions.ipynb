{
 "cells": [
  {
   "cell_type": "code",
   "execution_count": 2,
   "metadata": {},
   "outputs": [],
   "source": [
    "import random\n",
    "import numpy as np"
   ]
  },
  {
   "cell_type": "code",
   "execution_count": 13,
   "metadata": {},
   "outputs": [],
   "source": [
    "def seed_warning(seed):\n",
    "    if seed == None:\n",
    "        print('WARNING:there is no seed a random one will be used')\n",
    "    else:\n",
    "        print('using seed {}'.format(seed))"
   ]
  },
  {
   "cell_type": "code",
   "execution_count": 25,
   "metadata": {},
   "outputs": [],
   "source": [
    "#lets make a simple coinflip function\n",
    "def coinflip(times,seed=None):\n",
    "    seed_warning(seed)\n",
    "    random.seed(seed)\n",
    "    for flip in range(0,times):\n",
    "        coin = random.random()\n",
    "        if coin < 0.5:\n",
    "            print('Flip #',flip+1,': Tails')\n",
    "        else:\n",
    "            print('Flip #',flip+1,': Heads')"
   ]
  },
  {
   "cell_type": "code",
   "execution_count": 26,
   "metadata": {},
   "outputs": [
    {
     "name": "stdout",
     "output_type": "stream",
     "text": [
      "using seed 1\n",
      "Flip # 1 : Tails\n",
      "Flip # 2 : Heads\n",
      "Flip # 3 : Heads\n",
      "Flip # 4 : Tails\n",
      "Flip # 5 : Tails\n"
     ]
    }
   ],
   "source": [
    "coinflip(5,seed = 1)"
   ]
  },
  {
   "cell_type": "code",
   "execution_count": 27,
   "metadata": {},
   "outputs": [
    {
     "name": "stdout",
     "output_type": "stream",
     "text": [
      "WARNING:there is no seed a random one will be used\n",
      "Flip # 1 : Tails\n",
      "Flip # 2 : Tails\n",
      "Flip # 3 : Tails\n",
      "Flip # 4 : Tails\n",
      "Flip # 5 : Tails\n",
      "Flip # 6 : Tails\n"
     ]
    }
   ],
   "source": [
    "coinflip(6)"
   ]
  },
  {
   "cell_type": "code",
   "execution_count": 28,
   "metadata": {},
   "outputs": [],
   "source": [
    "def unfaircoinflip(times,seed=None):\n",
    "    seed_warning(seed)\n",
    "    for flip in range(0,times):\n",
    "        random.seed(seed)\n",
    "        coin = random.random()\n",
    "        if coin < 0.5:\n",
    "            print('Flip #',flip+1,': Tails')\n",
    "        else:\n",
    "            print('Flip #',flip+1,': Heads')"
   ]
  },
  {
   "cell_type": "code",
   "execution_count": 29,
   "metadata": {},
   "outputs": [
    {
     "name": "stdout",
     "output_type": "stream",
     "text": [
      "using seed 1\n",
      "Flip # 1 : Tails\n",
      "Flip # 2 : Tails\n",
      "Flip # 3 : Tails\n",
      "Flip # 4 : Tails\n",
      "Flip # 5 : Tails\n",
      "Flip # 6 : Tails\n"
     ]
    }
   ],
   "source": [
    "unfaircoinflip(6,seed=1)"
   ]
  },
  {
   "cell_type": "code",
   "execution_count": 30,
   "metadata": {},
   "outputs": [],
   "source": [
    "def NpFlip(trials, amount,seed = None):\n",
    "    seed_warning(seed)\n",
    "    np.random.seed(seed)\n",
    "    random_numbers = np.random.rand(trials, amount)\n",
    "    coinflips=[]\n",
    "    for trial in random_numbers:\n",
    "        trial_results = []\n",
    "        for flip in trial:\n",
    "            if flip < 0.5:\n",
    "                trial_results.append('Tails')\n",
    "            else:\n",
    "                trial_results.append('Heads')\n",
    "        coinflips.append(trial_results)\n",
    "    print(coinflips)\n",
    "    \n",
    "                \n",
    "    "
   ]
  },
  {
   "cell_type": "code",
   "execution_count": 31,
   "metadata": {},
   "outputs": [
    {
     "name": "stdout",
     "output_type": "stream",
     "text": [
      "WARNING:there is no seed a random one will be used\n",
      "[['Tails', 'Tails', 'Heads', 'Tails', 'Tails', 'Tails'], ['Heads', 'Tails', 'Tails', 'Heads', 'Heads', 'Tails']]\n"
     ]
    }
   ],
   "source": [
    "NpFlip(2, 6)"
   ]
  },
  {
   "cell_type": "code",
   "execution_count": 32,
   "metadata": {},
   "outputs": [],
   "source": [
    "def randomgene(length,seed=None):\n",
    "    seed_warning(seed)\n",
    "    random.seed(seed)\n",
    "    Bases = 'TCAG'\n",
    "    Seq= ''\n",
    "    for random_base in range(0,length):\n",
    "        base_number = random.randint(0,3)\n",
    "        base = Bases[base_number]\n",
    "        Seq = Seq+base\n",
    "    print(Seq)\n",
    "        \n",
    "        \n",
    "    "
   ]
  },
  {
   "cell_type": "code",
   "execution_count": 33,
   "metadata": {},
   "outputs": [
    {
     "name": "stdout",
     "output_type": "stream",
     "text": [
      "WARNING:there is no seed a random one will be used\n",
      "ATATCCTCAAACCTCCATCA\n"
     ]
    }
   ],
   "source": [
    "randomgene(20)"
   ]
  },
  {
   "cell_type": "code",
   "execution_count": 34,
   "metadata": {},
   "outputs": [],
   "source": [
    "def short_random_gene(length, seed = None):\n",
    "    seed_warning(seed)\n",
    "    random.seed(seed)\n",
    "    Bases = 'TCAG'\n",
    "    seq = ''\n",
    "    for bases in range(0,length):\n",
    "        choice = random.choice(Bases)\n",
    "        seq+= choice\n",
    "    print(seq)"
   ]
  },
  {
   "cell_type": "code",
   "execution_count": 35,
   "metadata": {},
   "outputs": [
    {
     "name": "stdout",
     "output_type": "stream",
     "text": [
      "using seed 1\n",
      "CTATGGGGCTGTGGTGACTATTTTGCGTCGGCACCGATGTCATAGCAAGG\n"
     ]
    }
   ],
   "source": [
    "short_random_gene(50, seed = 1)"
   ]
  },
  {
   "cell_type": "code",
   "execution_count": 36,
   "metadata": {},
   "outputs": [],
   "source": [
    "def np_short_random_gene(length,seed = None):\n",
    "    seed_warning(seed)\n",
    "    np.random.seed(seed)\n",
    "    Bases = ['T','C','A','G']\n",
    "    seq = np.random.choice(Bases,length,replace = True)\n",
    "    print(''.join(seq))"
   ]
  },
  {
   "cell_type": "code",
   "execution_count": 37,
   "metadata": {},
   "outputs": [
    {
     "name": "stdout",
     "output_type": "stream",
     "text": [
      "WARNING:there is no seed a random one will be used\n",
      "CTATGGCACAGAACCGTATCTAGACCGTCAGTATAATATTTGGTGCAAAA\n"
     ]
    }
   ],
   "source": [
    "np_short_random_gene(50)"
   ]
  },
  {
   "cell_type": "code",
   "execution_count": 3,
   "metadata": {},
   "outputs": [],
   "source": [
    "\n",
    "def goes_first(namea,nameb):\n",
    "    aroll = random.randint(1,100)\n",
    "    broll = random.randint(1,100)\n",
    "    if aroll <= broll:\n",
    "        first = nameb\n",
    "    else:\n",
    "        first = namea\n",
    "    return first\n",
    "    "
   ]
  },
  {
   "cell_type": "code",
   "execution_count": 4,
   "metadata": {},
   "outputs": [],
   "source": [
    "def player_moves():\n",
    "    pokemon_moves = ['absorb', 'volt-tackle', 'accelerock', \n",
    "                     'acid', 'acrobatics', 'watergun', 'squirt',\n",
    "                    'tackle', 'cut','splash', 'shock', 'hyper-beam']\n",
    "    move_list = np.random.choice(pokemon_moves,4)\n",
    "    return move_list"
   ]
  },
  {
   "cell_type": "code",
   "execution_count": 5,
   "metadata": {},
   "outputs": [],
   "source": [
    "def player_stats(moves):\n",
    "    moves_stats = []\n",
    "    for move in moves:\n",
    "        move_stat = random.randint(1,20)\n",
    "        moves_stats.append((move,move_stat))\n",
    "    return moves_stats\n"
   ]
  },
  {
   "cell_type": "code",
   "execution_count": 6,
   "metadata": {},
   "outputs": [
    {
     "data": {
      "text/plain": [
       "('acid', 19)"
      ]
     },
     "execution_count": 6,
     "metadata": {},
     "output_type": "execute_result"
    }
   ],
   "source": [
    "def ai_move(move_stats):\n",
    "    move = random.choice(move_stats)\n",
    "    return move\n",
    "ai_move([('acid', 19), ('tackle', 2), ('accelerock', 16), ('shock', 8)])"
   ]
  },
  {
   "cell_type": "code",
   "execution_count": 40,
   "metadata": {},
   "outputs": [],
   "source": [
    "def player_move(move_stats):\n",
    "    x = 0\n",
    "    print('_____PLAYER ATTACK_____')\n",
    "    for i in move_stats:\n",
    "        x+=1\n",
    "        print('move #{} You have {} which does around {} damage'.format(x,i[0],i[1]))\n",
    "    print('-----------------------------------------')\n",
    "    move_key = int(input('Type the move number of the move youd like to use:'))\n",
    "    move = move_stats[move_key-1]\n",
    "    print('-----------------------------------------')\n",
    "    return move\n"
   ]
  },
  {
   "cell_type": "code",
   "execution_count": 8,
   "metadata": {},
   "outputs": [],
   "source": [
    "def player_setup():\n",
    "    moves = player_moves()\n",
    "    moves = player_stats(moves)\n",
    "    return moves\n",
    "    "
   ]
  },
  {
   "cell_type": "code",
   "execution_count": 9,
   "metadata": {},
   "outputs": [],
   "source": [
    "def player_turn(player1,player2,moves,enemy_hp):\n",
    "    attack = player_move(moves)\n",
    "    enemy_hp -= attack[1]\n",
    "    print(\"{} used {} it did {} damage to {}\".format(player1, attack[0],\n",
    "                                                       attack[1],player2))\n",
    "    return enemy_hp"
   ]
  },
  {
   "cell_type": "code",
   "execution_count": 17,
   "metadata": {},
   "outputs": [],
   "source": [
    "def ai_turn(player1,player2,moves,enemy_hp):\n",
    "    print('______ENEMY_ATTACK_____')\n",
    "    attack = ai_move(moves)\n",
    "    enemy_hp -= attack[1]\n",
    "    print(\"{} used {} it did {} damage to {}\".format(player1, attack[0],\n",
    "                                                       attack[1],player2))\n",
    "    return enemy_hp"
   ]
  },
  {
   "cell_type": "code",
   "execution_count": 28,
   "metadata": {},
   "outputs": [],
   "source": [
    "def print_turn(turn,first):\n",
    "    print('-----------------------------------------')\n",
    "    print('Turn #',turn)\n",
    "    print('-----------------------------------------')\n",
    "    if turn == 1:\n",
    "        print('first is {}'.format(first))"
   ]
  },
  {
   "cell_type": "code",
   "execution_count": 29,
   "metadata": {},
   "outputs": [],
   "source": [
    "def player_first_move(first,second,first_moves,second_moves,ai_hp,player_hp):\n",
    "    ai_hp = player_turn(first,second,first_moves,ai_hp)\n",
    "    player_hp = ai_turn(second,first,second_moves,player_hp)\n",
    "    print('You have {} hp, Your opponent has {} hp'.format(player_hp,ai_hp))\n",
    "    return ai_hp, player_hp"
   ]
  },
  {
   "cell_type": "code",
   "execution_count": 30,
   "metadata": {},
   "outputs": [],
   "source": [
    "def ai_first_move(first,second,first_moves,second_moves,ai_hp,player_hp):\n",
    "    player_hp = ai_turn(second,first,second_moves,player_hp)\n",
    "    ai_hp = player_turn(first,second,first_moves,ai_hp)\n",
    "    print('You have {} hp, Your opponent has {} hp'.format(player_hp,ai_hp))\n",
    "    return ai_hp, player_hp"
   ]
  },
  {
   "cell_type": "code",
   "execution_count": 37,
   "metadata": {},
   "outputs": [],
   "source": [
    "def win_check(player_hp):\n",
    "    if player_hp <=0:\n",
    "        print('you lost')\n",
    "    else:\n",
    "        print('you won')"
   ]
  },
  {
   "cell_type": "code",
   "execution_count": 39,
   "metadata": {},
   "outputs": [],
   "source": [
    "def pokemon_fight(a,b,seed = None):\n",
    "    \n",
    "    seed_warning(seed)\n",
    "    player_hp = 100\n",
    "    ai_hp = 100\n",
    "    first = goes_first(a,b)\n",
    "    second = b if first == a else a\n",
    "    first_moves = player_setup()\n",
    "    second_moves = player_setup()\n",
    "    turn = 1\n",
    "    \n",
    "    while player_hp > 0 and ai_hp > 0:\n",
    "        print_turn(turn,first)\n",
    "        if first == a:\n",
    "            ai_hp, player_hp = player_first_move(first,second,first_moves,second_moves,ai_hp,player_hp)\n",
    "        else:\n",
    "            ai_hp, player_hp = ai_first_move(first,second,first_moves,second_moves,ai_hp,player_hp)\n",
    "        turn+=1\n",
    "        \n",
    "    win_check(player_hp)"
   ]
  },
  {
   "cell_type": "markdown",
   "metadata": {},
   "source": []
  },
  {
   "cell_type": "code",
   "execution_count": 41,
   "metadata": {},
   "outputs": [
    {
     "name": "stdout",
     "output_type": "stream",
     "text": [
      "WARNING:there is no seed a random one will be used\n",
      "-----------------------------------------\n",
      "Turn # 1\n",
      "-----------------------------------------\n",
      "first is Kadegghh\n",
      "______ENEMY_ATTACK_____\n",
      "Amegghh used tackle it did 8 damage to Kadegghh\n",
      "_____PLAYER ATTACK_____\n",
      "move #1 You have absorb which does around 9 damage\n",
      "move #2 You have shock which does around 2 damage\n",
      "move #3 You have watergun which does around 9 damage\n",
      "move #4 You have volt-tackle which does around 4 damage\n",
      "-----------------------------------------\n",
      "Type the move number of the move youd like to use:1\n",
      "-----------------------------------------\n",
      "Kadegghh used absorb it did 9 damage to Amegghh\n",
      "You have 92 hp, Your opponent has 91 hp\n",
      "-----------------------------------------\n",
      "Turn # 2\n",
      "-----------------------------------------\n",
      "______ENEMY_ATTACK_____\n",
      "Amegghh used hyper-beam it did 5 damage to Kadegghh\n",
      "_____PLAYER ATTACK_____\n",
      "move #1 You have absorb which does around 9 damage\n",
      "move #2 You have shock which does around 2 damage\n",
      "move #3 You have watergun which does around 9 damage\n",
      "move #4 You have volt-tackle which does around 4 damage\n",
      "-----------------------------------------\n",
      "Type the move number of the move youd like to use:1\n",
      "-----------------------------------------\n",
      "Kadegghh used absorb it did 9 damage to Amegghh\n",
      "You have 87 hp, Your opponent has 82 hp\n",
      "-----------------------------------------\n",
      "Turn # 3\n",
      "-----------------------------------------\n",
      "______ENEMY_ATTACK_____\n",
      "Amegghh used cut it did 5 damage to Kadegghh\n",
      "_____PLAYER ATTACK_____\n",
      "move #1 You have absorb which does around 9 damage\n",
      "move #2 You have shock which does around 2 damage\n",
      "move #3 You have watergun which does around 9 damage\n",
      "move #4 You have volt-tackle which does around 4 damage\n",
      "-----------------------------------------\n",
      "Type the move number of the move youd like to use:1\n",
      "-----------------------------------------\n",
      "Kadegghh used absorb it did 9 damage to Amegghh\n",
      "You have 82 hp, Your opponent has 73 hp\n",
      "-----------------------------------------\n",
      "Turn # 4\n",
      "-----------------------------------------\n",
      "______ENEMY_ATTACK_____\n",
      "Amegghh used cut it did 5 damage to Kadegghh\n",
      "_____PLAYER ATTACK_____\n",
      "move #1 You have absorb which does around 9 damage\n",
      "move #2 You have shock which does around 2 damage\n",
      "move #3 You have watergun which does around 9 damage\n",
      "move #4 You have volt-tackle which does around 4 damage\n",
      "-----------------------------------------\n",
      "Type the move number of the move youd like to use:1\n",
      "-----------------------------------------\n",
      "Kadegghh used absorb it did 9 damage to Amegghh\n",
      "You have 77 hp, Your opponent has 64 hp\n",
      "-----------------------------------------\n",
      "Turn # 5\n",
      "-----------------------------------------\n",
      "______ENEMY_ATTACK_____\n",
      "Amegghh used hyper-beam it did 5 damage to Kadegghh\n",
      "_____PLAYER ATTACK_____\n",
      "move #1 You have absorb which does around 9 damage\n",
      "move #2 You have shock which does around 2 damage\n",
      "move #3 You have watergun which does around 9 damage\n",
      "move #4 You have volt-tackle which does around 4 damage\n",
      "-----------------------------------------\n",
      "Type the move number of the move youd like to use:1\n",
      "-----------------------------------------\n",
      "Kadegghh used absorb it did 9 damage to Amegghh\n",
      "You have 72 hp, Your opponent has 55 hp\n",
      "-----------------------------------------\n",
      "Turn # 6\n",
      "-----------------------------------------\n",
      "______ENEMY_ATTACK_____\n",
      "Amegghh used cut it did 5 damage to Kadegghh\n",
      "_____PLAYER ATTACK_____\n",
      "move #1 You have absorb which does around 9 damage\n",
      "move #2 You have shock which does around 2 damage\n",
      "move #3 You have watergun which does around 9 damage\n",
      "move #4 You have volt-tackle which does around 4 damage\n",
      "-----------------------------------------\n",
      "Type the move number of the move youd like to use:1\n",
      "-----------------------------------------\n",
      "Kadegghh used absorb it did 9 damage to Amegghh\n",
      "You have 67 hp, Your opponent has 46 hp\n",
      "-----------------------------------------\n",
      "Turn # 7\n",
      "-----------------------------------------\n",
      "______ENEMY_ATTACK_____\n",
      "Amegghh used acrobatics it did 5 damage to Kadegghh\n",
      "_____PLAYER ATTACK_____\n",
      "move #1 You have absorb which does around 9 damage\n",
      "move #2 You have shock which does around 2 damage\n",
      "move #3 You have watergun which does around 9 damage\n",
      "move #4 You have volt-tackle which does around 4 damage\n",
      "-----------------------------------------\n",
      "Type the move number of the move youd like to use:1\n",
      "-----------------------------------------\n",
      "Kadegghh used absorb it did 9 damage to Amegghh\n",
      "You have 62 hp, Your opponent has 37 hp\n",
      "-----------------------------------------\n",
      "Turn # 8\n",
      "-----------------------------------------\n",
      "______ENEMY_ATTACK_____\n",
      "Amegghh used acrobatics it did 5 damage to Kadegghh\n",
      "_____PLAYER ATTACK_____\n",
      "move #1 You have absorb which does around 9 damage\n",
      "move #2 You have shock which does around 2 damage\n",
      "move #3 You have watergun which does around 9 damage\n",
      "move #4 You have volt-tackle which does around 4 damage\n",
      "-----------------------------------------\n",
      "Type the move number of the move youd like to use:1\n",
      "-----------------------------------------\n",
      "Kadegghh used absorb it did 9 damage to Amegghh\n",
      "You have 57 hp, Your opponent has 28 hp\n",
      "-----------------------------------------\n",
      "Turn # 9\n",
      "-----------------------------------------\n",
      "______ENEMY_ATTACK_____\n",
      "Amegghh used hyper-beam it did 5 damage to Kadegghh\n",
      "_____PLAYER ATTACK_____\n",
      "move #1 You have absorb which does around 9 damage\n",
      "move #2 You have shock which does around 2 damage\n",
      "move #3 You have watergun which does around 9 damage\n",
      "move #4 You have volt-tackle which does around 4 damage\n",
      "-----------------------------------------\n",
      "Type the move number of the move youd like to use:1\n",
      "-----------------------------------------\n",
      "Kadegghh used absorb it did 9 damage to Amegghh\n",
      "You have 52 hp, Your opponent has 19 hp\n",
      "-----------------------------------------\n",
      "Turn # 10\n",
      "-----------------------------------------\n",
      "______ENEMY_ATTACK_____\n",
      "Amegghh used hyper-beam it did 5 damage to Kadegghh\n",
      "_____PLAYER ATTACK_____\n",
      "move #1 You have absorb which does around 9 damage\n",
      "move #2 You have shock which does around 2 damage\n",
      "move #3 You have watergun which does around 9 damage\n",
      "move #4 You have volt-tackle which does around 4 damage\n",
      "-----------------------------------------\n",
      "Type the move number of the move youd like to use:1\n",
      "-----------------------------------------\n",
      "Kadegghh used absorb it did 9 damage to Amegghh\n",
      "You have 47 hp, Your opponent has 10 hp\n",
      "-----------------------------------------\n",
      "Turn # 11\n",
      "-----------------------------------------\n",
      "______ENEMY_ATTACK_____\n",
      "Amegghh used hyper-beam it did 5 damage to Kadegghh\n",
      "_____PLAYER ATTACK_____\n",
      "move #1 You have absorb which does around 9 damage\n",
      "move #2 You have shock which does around 2 damage\n",
      "move #3 You have watergun which does around 9 damage\n",
      "move #4 You have volt-tackle which does around 4 damage\n",
      "-----------------------------------------\n",
      "Type the move number of the move youd like to use:1\n",
      "-----------------------------------------\n",
      "Kadegghh used absorb it did 9 damage to Amegghh\n",
      "You have 42 hp, Your opponent has 1 hp\n",
      "-----------------------------------------\n",
      "Turn # 12\n",
      "-----------------------------------------\n",
      "______ENEMY_ATTACK_____\n",
      "Amegghh used hyper-beam it did 5 damage to Kadegghh\n",
      "_____PLAYER ATTACK_____\n",
      "move #1 You have absorb which does around 9 damage\n",
      "move #2 You have shock which does around 2 damage\n",
      "move #3 You have watergun which does around 9 damage\n",
      "move #4 You have volt-tackle which does around 4 damage\n",
      "-----------------------------------------\n",
      "Type the move number of the move youd like to use:1\n",
      "-----------------------------------------\n",
      "Kadegghh used absorb it did 9 damage to Amegghh\n",
      "You have 37 hp, Your opponent has -8 hp\n",
      "you won\n"
     ]
    }
   ],
   "source": [
    "pokemon_fight('Amegghh','Kadegghh')"
   ]
  },
  {
   "cell_type": "markdown",
   "metadata": {},
   "source": []
  },
  {
   "cell_type": "code",
   "execution_count": null,
   "metadata": {},
   "outputs": [],
   "source": [
    "\n"
   ]
  },
  {
   "cell_type": "markdown",
   "metadata": {},
   "source": []
  },
  {
   "cell_type": "code",
   "execution_count": null,
   "metadata": {},
   "outputs": [],
   "source": []
  },
  {
   "cell_type": "code",
   "execution_count": null,
   "metadata": {},
   "outputs": [],
   "source": []
  },
  {
   "cell_type": "code",
   "execution_count": null,
   "metadata": {},
   "outputs": [],
   "source": []
  },
  {
   "cell_type": "code",
   "execution_count": null,
   "metadata": {},
   "outputs": [],
   "source": []
  }
 ],
 "metadata": {
  "kernelspec": {
   "display_name": "Python 3",
   "language": "python",
   "name": "python3"
  },
  "language_info": {
   "codemirror_mode": {
    "name": "ipython",
    "version": 3
   },
   "file_extension": ".py",
   "mimetype": "text/x-python",
   "name": "python",
   "nbconvert_exporter": "python",
   "pygments_lexer": "ipython3",
   "version": "3.8.3"
  }
 },
 "nbformat": 4,
 "nbformat_minor": 4
}
